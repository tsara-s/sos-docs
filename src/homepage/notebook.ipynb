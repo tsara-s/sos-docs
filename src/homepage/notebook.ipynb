{
 "cells": [
  {
   "cell_type": "markdown",
   "metadata": {
    "kernel": "SoS"
   },
   "source": [
    "# Introductory Videos "
   ]
  },
  {
   "cell_type": "markdown",
   "metadata": {
    "kernel": "SoS"
   },
   "source": [
    "<div class=\"container\">\n",
    "    <div class=\"row\">\n",
    "        <div class=\"col-sm-3\">\n",
    "              <div class=\"embed-responsive embed-responsive-16by9\">\n",
    "                   <iframe width=\"560\" height=\"315\" src=\"https://www.youtube.com/embed/U75eKosFbp8?wmode=opaque\" frameborder=\"0\" allowfullscreen></iframe>\n",
    "                   <div class=\"overlay-duration\">45:56</div>\n",
    "              </div>\n",
    "            <p>Presentation at JupyterCon 18 <br><a href=\"https://github.com/vatlab/JupyterCon2018\">slides and examples</a></p>\n",
    "        </div>\n",
    "        <div class=\"col-sm-3\">\n",
    "              <div class=\"embed-responsive embed-responsive-16by9\">\n",
    "                   <iframe width=\"560\" height=\"315\" src=\"https://www.youtube.com/embed/xrwhNMRTBp4?wmode=opaque\" frameborder=\"0\" allowfullscreen></iframe>\n",
    "                   <div class=\"overlay-duration\">16:32</div>\n",
    "              </div>\n",
    "            <p>Overview of SoS Notebook<br>\n",
    "                <a href=\"https://github.com/vatlab/sos-docs/tree/master/src/videos\">Examples</a>\n",
    "            </p>\n",
    "        </div>\n",
    "    </div>\n",
    "</div>"
   ]
  },
  {
   "cell_type": "markdown",
   "metadata": {
    "kernel": "SoS"
   },
   "source": [
    "# Getting help"
   ]
  },
  {
   "cell_type": "markdown",
   "metadata": {
    "kernel": "SoS"
   },
   "source": [
    "SoS Notebook comes with an extensive set of documentation but it can be daunting to dive into it to get the information you need.\n",
    "\n",
    "* If you have a casual question like if certain feature exists or how certain things are handled, it is better to [ask it in our gitter channel](https://gitter.im/vatlab/SoS). You can also use the <i class=\"fab fa-gitter fa-2x\"></i> button at the top right corner of the homepage.\n",
    "\n",
    "* If you have a more serious question or suggestion, please feel free to post to our [issue tracker](https://github.com/vatlab/sos-notebook). SoS consists of tens of modules and related issue trackers but free feel to post to any of them because it is easy for us to move the issue to an appropriate tracker if needed."
   ]
  },
  {
   "cell_type": "markdown",
   "metadata": {
    "kernel": "SoS"
   },
   "source": [
    "# Documentation"
   ]
  },
  {
   "cell_type": "markdown",
   "metadata": {
    "kernel": "SoS"
   },
   "source": [
    "Our documentation is hosted on our live server and can be edited directly. If you spot an error or feel like contributing to the document, please \n",
    "\n",
    "1. Click the &nbsp; <i class=\"fa fa-edit fa-2x\"></i> &nbsp; button to the top right corner of each tutorial\n",
    "2. Execute the notebook and edit it on our live server\n",
    "3. Enter `!create-pr <Shift-Enter>` in the console panel to send us a PR"
   ]
  },
  {
   "cell_type": "markdown",
   "metadata": {
    "kernel": "SoS"
   },
   "source": [
    "## Using SoS Notebook \n",
    " * [Using multiple kernels in one Jupyter noetbook](doc/user_guide/multi_kernel_notebook.html)\n",
    " * [Working with arbitrary subkernels (magics `%cd`, `%expand`, `%capture` and `%render`)](doc/user_guide/expand_capture_render.html)\n",
    " * [Exchanging data among kernels (magics `%get`, `%put`, `%use`, and `%with`)](doc/user_guide/exchange_variable.html)\n",
    " * [Using the console panel (console panel and shortcut `Ctrl-Shift-Enter`)](doc/user_guide/console_panel.html)\n",
    " * [Previewing variables and files (magic `%preview`)](doc/user_guide/magic_preview.html)\n",
    " * [Tracking session and revision history of notebooks (magic `%revisions` and `%sessioninfo`)](doc/user_guide/sessioninfo_revision.html)\n",
    " * [Running cell in modified environments (magic `%env`)](doc/user_guide/magic_env.html) \n",
    " * [Converting RMarkdown files to SoS notebooks (`sos convert .rmd .ipynb`)](doc/user_guide/rmd_to_ipynb.html)\n",
    " * [Exporting reports in HTML format (magic `%convert`)](doc/user_guide/magic_convert.html)\n",
    " * [More on magic <code>%use</code>](doc/user_guide/magic_use.html)  \n",
    " * [Workflow-execution magics (magics `%run`, `%sosrun`, `%runfile`)](doc/user_guide/workflow_magics.html)\n"
   ]
  },
  {
   "cell_type": "markdown",
   "metadata": {
    "kernel": "SoS"
   },
   "source": [
    "## Supported languages \n",
    "\n",
    " * [Working with Bash and Zsh (module `sos-bash`)](doc/user_guide/sos_bash.html)\n",
    " * [Working with JavaScript and TypeScript (module `sos-javascript`)](doc/user_guide/sos_javascript.html)\n",
    " * [Working with Julia (module `sos-julia`)](doc/user_guide/sos_julia.html)\n",
    " * [Working with Matlab and Octave (module `sos-matlab`)](doc/user_guide/sos_matlab.html)\n",
    " * [Working with Ruby (module `sos-ruby`)](doc/user_guide/sos_ruby.html)\n",
    " * [Working with Python 2 and Python3 (module `sos-python`)](doc/user_guide/sos_python.html)\n",
    " * [Working with R (module `sos-r`)](doc/user_guide/sos_r.html)\n",
    " * [Working with SAS (module `sos-sas`)](doc/user_guide/sos_sas.html)\n",
    " * [Working with Scilab (module `sos-scilab`)](doc/user_guide/sos_scilab.html)\n",
    " * [Working with Stata (module `sos-stata`)](doc/user_guide/sos_stata.html)\n",
    " * [Uisng the markdown kernel (module `markdown-kernel`)](doc/user_guide/markdown_kernel.html)\n"
   ]
  },
  {
   "cell_type": "markdown",
   "metadata": {
    "kernel": "SoS"
   },
   "source": [
    "## Technical details\n",
    "   \n",
    " * [SoS Magics](doc/user_guide/sos_magics.html)\n",
    " * [Writing a new language module](doc/user_guide/language_module.html)  "
   ]
  },
  {
   "cell_type": "markdown",
   "metadata": {
    "kernel": "SoS"
   },
   "source": [
    "# Examples\n",
    "\n",
    "Jupyter notebook to demonstrate features of SoS\n",
    "\n",
    "* [Types of cells](doc/examples/Types_of_cells.html) ([notebook](doc/examples/Types_of_cells.ipynb))<br>\n",
    "  <small>Demonstrate four types of cells that can be included in a Jupyter notebook</small>\n",
    "* <img src=\"img/R.png\" style=\"width:16pt;height:16pt;margin-right:5pt;\"> [DEG Annotation](doc/examples/DEG_Annotation.html) ([notebook](doc/examples/DEG_Annotation.ipynb))<br>\n",
    "  <small>An example to use Python to read an excel file, transfer the data to R, use R to translate ensembl gene IDs to HGNC gene names, then transfer data back to Python to write to a separate excel file</small>\n",
    "* <img src=\"img/R.png\" style=\"width:16pt;height:16pt;margin-right:5pt;\"> [Generation of reports with hidden details](doc/examples/Preview_and_Report_Generation.html) ([notebook](doc/examples/Preview_and_Report_Generation.ipynb) and [generated report](doc/examples/Preview_and_Report_Generation_report.html))<br>\n",
    "  <small>This example demonstrates how to generate a report in HTML format with hidden details</small>\n",
    "* <img src=\"img/SAS.png\" style=\"width:16pt;height:16pt;margin-right:5pt;\"><img src=\"img/R.png\" style=\"width:16pt;height:16pt;margin-right:5pt;\"> [Use SAS with SoS](doc/examples/SAS_Example.html)  ([notebook](doc/examples/SAS_Example.ipynb))<br>\n",
    "  <small>Simple examples on using SAS with SoS</small>"
   ]
  },
  {
   "cell_type": "markdown",
   "metadata": {
    "kernel": "SoS"
   },
   "source": [
    "#  Publications\n",
    "\n",
    "Please cite the following publication if you use SoS Notebook for your work:\n",
    "\n",
    "[**SoS Notebook: An Interactive Multi-Language Data Analysis Environment**](https://academic.oup.com/bioinformatics/advance-article/doi/10.1093/bioinformatics/bty405/5001386)\n",
    "<small>Bo Peng, Gao Wang, Jun Ma, Man Chong Leong, Chris Wakefield, James Melott, Yulun Chiu, Di Du, and John N. Weinstein, <em>Bioinformatics</em>, May 2018. doi: https://doi.org/10.1093/bioinformatics/bty405</small>"
   ]
  },
  {
   "cell_type": "markdown",
   "metadata": {
    "kernel": "SoS"
   },
   "source": []
  }
 ],
 "metadata": {
  "anaconda-cloud": {},
  "kernelspec": {
   "display_name": "SoS",
   "language": "sos",
   "name": "sos"
  },
  "language_info": {
   "codemirror_mode": "sos",
   "file_extension": ".sos",
   "mimetype": "text/x-sos",
   "name": "sos",
   "nbconvert_exporter": "sos_notebook.converter.SoS_Exporter",
   "pygments_lexer": "sos"
  },
  "sos": {
   "celltoolbar": true,
   "default_kernel": "SoS",
   "kernels": [],
   "panel": {
    "displayed": true,
    "height": 0,
    "style": "side"
   },
   "version": "0.23.4"
  },
  "toc": {
   "colors": {
    "hover_highlight": "#DAA520",
    "running_highlight": "#FF0000",
    "selected_highlight": "#FFD700"
   },
   "moveMenuLeft": true,
   "nav_menu": {
    "height": "45px",
    "width": "254px"
   },
   "navigate_menu": true,
   "number_sections": true,
   "sideBar": true,
   "threshold": 4,
   "toc_cell": false,
   "toc_section_display": "block",
   "toc_window_display": true
  }
 },
 "nbformat": 4,
 "nbformat_minor": 4
}
