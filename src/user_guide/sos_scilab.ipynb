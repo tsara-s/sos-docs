{
 "cells": [
  {
   "cell_type": "markdown",
   "metadata": {
    "kernel": "SoS",
    "tags": []
   },
   "source": [
    "# Working with Scilab"
   ]
  },
  {
   "cell_type": "markdown",
   "metadata": {
    "kernel": "SoS",
    "tags": []
   },
   "source": [
    "* **Difficulty level**: easy\n",
    "* **Time need to lean**: 15 minutes or less\n",
    "* **Key points**:\n",
    "  * There are intuitive corresponding data types between most Python (SoS) and Scilab datatypes"
   ]
  },
  {
   "cell_type": "markdown",
   "metadata": {
    "kernel": "Matlab",
    "tags": []
   },
   "source": [
    "## Overview"
   ]
  },
  {
   "cell_type": "markdown",
   "metadata": {
    "kernel": "Matlab",
    "tags": []
   },
   "source": [
    "The convertion of datatype from SoS to Scilab is as followings:\n",
    "  \n",
    "  | Python  |  condition |   Scilab |\n",
    "  | --- | --- |---|\n",
    "  | `None` | |    `Nan` |\n",
    "  | `boolean` |   | `boolean` |\n",
    "  | `integer` |  |  `constant` |\n",
    "  | `float` |  |  `constant` |\n",
    "  | `complex` |  |  `complex` |\n",
    "  | `str` |  | `string` |\n",
    "  | `char` |  | `string` |\n",
    "  | Sequence (`list`, `tuple`, ...) |  homogenous type, all numeric |  `constant` |\n",
    "  | Sequence (`list`, `tuple`, ...) |  homogenous type, all char |  `string` |\n",
    "  | Sequence (`list`, `tuple`, ...) |  multiple types |  `list` |\n",
    "  | `numpy.ndarray` |  | `constant` |\n",
    "  | `numpy.matrix` |  | `constant` |\n",
    "  Python objects in other datatypes are transferred as string `\"Unsupported datatype\"`."
   ]
  },
  {
   "cell_type": "markdown",
   "metadata": {
    "kernel": "Matlab",
    "tags": []
   },
   "source": [
    "The convertion of datatype from Scilab to SoS is as followings:\n",
    "\n",
    "  | MATLAB  |  length (n) |   Python |\n",
    "  | --- | --- |---|\n",
    "  | `Nan` | |    `None` |\n",
    "  | `boolean` |  `1` |  `boolean` |\n",
    "  | `integer` |  `1` |  `integer` |\n",
    "  | `constant` |  `1` |  `double` |\n",
    "  | `string` |  `1` |  `string` |\n",
    "  | `complex` |  `1` |  `complex` |\n",
    "  | `boolean` |  `n > 1` |  `list` |\n",
    "  | `integer` |  `n > 1` |  `list` |\n",
    "  | `complex` |  `n > 1` |  `list` |\n",
    "  | `constant` |  `n > 1` |  `list` |\n",
    "  | `string` |  `n > 1` |  `list` |\n",
    "  | `struct` |  `n > 0` | `numpy.ndarray` |\n",
    "  | `matrix` |  `n > 0` |  `numpy.array` |\n",
    "  | `cell` |  `n > 0` |  `numpy.ndarray` |\n",
    "  "
   ]
  },
  {
   "cell_type": "markdown",
   "metadata": {
    "kernel": "SoS",
    "tags": []
   },
   "source": [
    "## Simple data types"
   ]
  },
  {
   "cell_type": "markdown",
   "metadata": {
    "kernel": "Matlab",
    "tags": []
   },
   "source": [
    "Most simple Python data types can be converted to Scilab types easily."
   ]
  },
  {
   "cell_type": "code",
   "execution_count": 1,
   "metadata": {
    "kernel": "SoS",
    "tags": []
   },
   "outputs": [],
   "source": [
    "null_var = None\n",
    "int_var = 123\n",
    "float_var = 3.1415925\n",
    "logic_var = True\n",
    "char_var = '1\"23'\n",
    "comp_var = 1+2j"
   ]
  },
  {
   "cell_type": "code",
   "execution_count": 2,
   "metadata": {
    "kernel": "Scilab",
    "scrolled": false,
    "tags": []
   },
   "outputs": [
    {
     "name": "stderr",
     "output_type": "stream",
     "text": [
      "/usr/bin/chcon: failed to change context of '/share/apps/scilab-6.1.1/bin/scilab-bin' to ‘unconfined_u:object_r:execmem_exec_t:s0’: Operation not permitted\n",
      "/usr/bin/chcon: failed to change context of '/share/apps/scilab-6.1.1/bin/scilab-cli-bin' to ‘unconfined_u:object_r:execmem_exec_t:s0’: Operation not permitted\n"
     ]
    },
    {
     "data": {
      "text/html": [
       "<div class=\"sos_hint\">> null_var:</div>"
      ],
      "text/plain": [
       ">>> null_var:\n"
      ]
     },
     "metadata": {},
     "output_type": "display_data"
    },
    {
     "name": "stdout",
     "output_type": "stream",
     "text": [
      "\u001b[4l \b\u001b[0m null_var  = \r\n",
      "\r\n",
      "   Nan\r\n",
      "\r\n",
      "\u001b[0m"
     ]
    },
    {
     "data": {
      "text/html": [
       "<div class=\"sos_hint\">> int_var:</div>"
      ],
      "text/plain": [
       ">>> int_var:\n"
      ]
     },
     "metadata": {},
     "output_type": "display_data"
    },
    {
     "name": "stdout",
     "output_type": "stream",
     "text": [
      "\u001b[4l \b\u001b[0m int_var  = \r\n",
      "\r\n",
      "   123.\r\n",
      "\r\n",
      "\u001b[0m"
     ]
    },
    {
     "data": {
      "text/html": [
       "<div class=\"sos_hint\">> float_var:</div>"
      ],
      "text/plain": [
       ">>> float_var:\n"
      ]
     },
     "metadata": {},
     "output_type": "display_data"
    },
    {
     "name": "stdout",
     "output_type": "stream",
     "text": [
      "\u001b[4l \b\u001b[0m float_var  = \r\n",
      "\r\n",
      "   3.1415925\r\n",
      "\r\n",
      "\u001b[0m"
     ]
    },
    {
     "data": {
      "text/html": [
       "<div class=\"sos_hint\">> logic_var:</div>"
      ],
      "text/plain": [
       ">>> logic_var:\n"
      ]
     },
     "metadata": {},
     "output_type": "display_data"
    },
    {
     "name": "stdout",
     "output_type": "stream",
     "text": [
      "\u001b[4l \b\u001b[0m logic_var  = \r\n",
      "\r\n",
      "  T\r\n",
      "\r\n",
      "\u001b[0m"
     ]
    },
    {
     "data": {
      "text/html": [
       "<div class=\"sos_hint\">> char_var:</div>"
      ],
      "text/plain": [
       ">>> char_var:\n"
      ]
     },
     "metadata": {},
     "output_type": "display_data"
    },
    {
     "name": "stdout",
     "output_type": "stream",
     "text": [
      "\u001b[4l \b\u001b[0m\r\n",
      "Undefined variable: char_var\r\n",
      "\r\n",
      "\u001b[0m"
     ]
    },
    {
     "data": {
      "text/html": [
       "<div class=\"sos_hint\">> comp_var:</div>"
      ],
      "text/plain": [
       ">>> comp_var:\n"
      ]
     },
     "metadata": {},
     "output_type": "display_data"
    },
    {
     "name": "stdout",
     "output_type": "stream",
     "text": [
      "\u001b[4l \b\u001b[0m comp_var  = \r\n",
      "\r\n",
      "   1. + 2.i\r\n",
      "\r\n",
      "\u001b[0m"
     ]
    }
   ],
   "source": [
    "%get null_var int_var float_var logic_var char_var comp_var\n",
    "%preview -n null_var int_var float_var logic_var char_var comp_var"
   ]
  },
  {
   "cell_type": "markdown",
   "metadata": {
    "kernel": "R",
    "tags": []
   },
   "source": [
    "The variables can be sent back to SoS without losing information"
   ]
  },
  {
   "cell_type": "code",
   "execution_count": 3,
   "metadata": {
    "kernel": "SoS",
    "tags": []
   },
   "outputs": [
    {
     "name": "stderr",
     "output_type": "stream",
     "text": [
      "Failed to evaluate 'Undefined variable: char_var':\n",
      " Invalid return expresion \"Undefined variable: char_var\"\n"
     ]
    },
    {
     "data": {
      "text/html": [
       "<div class=\"sos_hint\">> null_var: NoneType</div>"
      ],
      "text/plain": [
       ">>> null_var:\n"
      ]
     },
     "metadata": {},
     "output_type": "display_data"
    },
    {
     "data": {
      "text/plain": [
       "None"
      ]
     },
     "metadata": {},
     "output_type": "display_data"
    },
    {
     "data": {
      "text/html": [
       "<div class=\"sos_hint\">> int_var: float</div>"
      ],
      "text/plain": [
       ">>> int_var:\n"
      ]
     },
     "metadata": {},
     "output_type": "display_data"
    },
    {
     "data": {
      "text/plain": [
       "123.0"
      ]
     },
     "metadata": {},
     "output_type": "display_data"
    },
    {
     "data": {
      "text/html": [
       "<div class=\"sos_hint\">> float_var: float</div>"
      ],
      "text/plain": [
       ">>> float_var:\n"
      ]
     },
     "metadata": {},
     "output_type": "display_data"
    },
    {
     "data": {
      "text/plain": [
       "3.141592"
      ]
     },
     "metadata": {},
     "output_type": "display_data"
    },
    {
     "data": {
      "text/html": [
       "<div class=\"sos_hint\">> logic_var: bool</div>"
      ],
      "text/plain": [
       ">>> logic_var:\n"
      ]
     },
     "metadata": {},
     "output_type": "display_data"
    },
    {
     "data": {
      "text/plain": [
       "True"
      ]
     },
     "metadata": {},
     "output_type": "display_data"
    },
    {
     "data": {
      "text/html": [
       "<div class=\"sos_hint\">> char_var: str of length 4</div>"
      ],
      "text/plain": [
       ">>> char_var:\n"
      ]
     },
     "metadata": {},
     "output_type": "display_data"
    },
    {
     "data": {
      "text/plain": [
       "'1\"23'"
      ]
     },
     "metadata": {},
     "output_type": "display_data"
    },
    {
     "data": {
      "text/html": [
       "<div class=\"sos_hint\">> comp_var: complex</div>"
      ],
      "text/plain": [
       ">>> comp_var:\n"
      ]
     },
     "metadata": {},
     "output_type": "display_data"
    },
    {
     "data": {
      "text/plain": [
       "(1+2j)"
      ]
     },
     "metadata": {},
     "output_type": "display_data"
    }
   ],
   "source": [
    "%get null_var int_var float_var logic_var char_var comp_var --from scilab\n",
    "%preview -n null_var int_var float_var logic_var char_var comp_var"
   ]
  },
  {
   "cell_type": "markdown",
   "metadata": {
    "kernel": "R",
    "tags": []
   },
   "source": [
    "However, because Python allows integers of arbitrary precision which is not supported by R, large integers would be presented in R as float point numbers, which might not be able to keep the precision of the original number.\n",
    "\n",
    "For example, if we put a large integer with 18 significant digits to R"
   ]
  },
  {
   "cell_type": "code",
   "execution_count": 4,
   "metadata": {
    "kernel": "SoS",
    "tags": []
   },
   "outputs": [],
   "source": [
    "%put large_int --to scilab\n",
    "large_int = 123456789123456789"
   ]
  },
  {
   "cell_type": "markdown",
   "metadata": {
    "kernel": "SoS",
    "tags": []
   },
   "source": [
    "The last digit would be different because of floating point presentation"
   ]
  },
  {
   "cell_type": "code",
   "execution_count": 5,
   "metadata": {
    "kernel": "Scilab",
    "tags": []
   },
   "outputs": [
    {
     "name": "stdout",
     "output_type": "stream",
     "text": [
      "\u001b[4l \b\u001b[0m large_int  = \r\n",
      "\r\n",
      "   1.235D+17\r\n",
      "\r\n",
      "\u001b[0m"
     ]
    }
   ],
   "source": [
    "%put large_int\n",
    "large_int"
   ]
  },
  {
   "cell_type": "markdown",
   "metadata": {
    "kernel": "R",
    "tags": []
   },
   "source": [
    "This is not a problem with SoS because you would get the same result if you enter this number in R"
   ]
  },
  {
   "cell_type": "code",
   "execution_count": 8,
   "metadata": {
    "kernel": "R",
    "tags": []
   },
   "outputs": [
    {
     "data": {
      "text/html": [
       "123456789123456784"
      ],
      "text/latex": [
       "123456789123456784"
      ],
      "text/markdown": [
       "123456789123456784"
      ],
      "text/plain": [
       "[1] 1.234568e+17"
      ]
     },
     "metadata": {},
     "output_type": "display_data"
    }
   ],
   "source": [
    "123456789123456789"
   ]
  },
  {
   "cell_type": "markdown",
   "metadata": {
    "kernel": "R",
    "tags": []
   },
   "source": [
    "Consequently, if you send `large_int` back to `SoS`, the number would be different"
   ]
  },
  {
   "cell_type": "code",
   "execution_count": 9,
   "metadata": {
    "kernel": "SoS",
    "scrolled": false,
    "tags": []
   },
   "outputs": [
    {
     "data": {
      "text/plain": [
       "123456789123456784"
      ]
     },
     "execution_count": 9,
     "metadata": {},
     "output_type": "execute_result"
    }
   ],
   "source": [
    "%get large_int --from R\n",
    "large_int"
   ]
  },
  {
   "cell_type": "markdown",
   "metadata": {
    "kernel": "SoS",
    "tags": []
   },
   "source": [
    "## Array, matrix, and dataframe"
   ]
  },
  {
   "cell_type": "markdown",
   "metadata": {
    "kernel": "R",
    "tags": []
   },
   "source": [
    "The one-dimension (vector) data is converted from SoS to R as follows:"
   ]
  },
  {
   "cell_type": "code",
   "execution_count": 15,
   "metadata": {
    "kernel": "SoS",
    "tags": []
   },
   "outputs": [],
   "source": [
    "import numpy\n",
    "import pandas\n",
    "char_arr_var = ['1', '2', '3']\n",
    "list_var = [1, 2, '3']\n",
    "set_var = {1, 2, '3'}\n",
    "recursive_var = {'a': {'b': 123}, 'c': True}\n",
    "logic_arr_var = [True, False, True]\n",
    "seri_var = pandas.Series([1,2,3,3,3,3])"
   ]
  },
  {
   "cell_type": "code",
   "execution_count": 19,
   "metadata": {
    "kernel": "Scilab",
    "tags": []
   },
   "outputs": [
    {
     "data": {
      "text/html": [
       "<div class=\"sos_hint\">> char_arr_var:</div>"
      ],
      "text/plain": [
       ">>> char_arr_var:\n"
      ]
     },
     "metadata": {},
     "output_type": "display_data"
    },
    {
     "name": "stdout",
     "output_type": "stream",
     "text": [
      "\u001b[4l \b\u001b[0m\r\n",
      "Undefined variable: char_arr_var\r\n",
      "\r\n",
      "\u001b[0m"
     ]
    },
    {
     "data": {
      "text/html": [
       "<div class=\"sos_hint\">> list_var:</div>"
      ],
      "text/plain": [
       ">>> list_var:\n"
      ]
     },
     "metadata": {},
     "output_type": "display_data"
    },
    {
     "name": "stdout",
     "output_type": "stream",
     "text": [
      "\u001b[4l \b\u001b[0m\r\n",
      "Undefined variable: list_var\r\n",
      "\r\n",
      "\u001b[0m"
     ]
    },
    {
     "data": {
      "text/html": [
       "<div class=\"sos_hint\">> set_var:</div>"
      ],
      "text/plain": [
       ">>> set_var:\n"
      ]
     },
     "metadata": {},
     "output_type": "display_data"
    },
    {
     "name": "stdout",
     "output_type": "stream",
     "text": [
      "\u001b[4l \b\u001b[0m\r\n",
      "Undefined variable: set_var\r\n",
      "\r\n",
      "\u001b[0m"
     ]
    },
    {
     "data": {
      "text/html": [
       "<div class=\"sos_hint\">> recursive_var:</div>"
      ],
      "text/plain": [
       ">>> recursive_var:\n"
      ]
     },
     "metadata": {},
     "output_type": "display_data"
    },
    {
     "name": "stdout",
     "output_type": "stream",
     "text": [
      "\u001b[4l \b\u001b[0m\r\n",
      "Undefined variable: recursive_var\r\n",
      "\r\n",
      "\u001b[0m"
     ]
    },
    {
     "data": {
      "text/html": [
       "<div class=\"sos_hint\">> logic_arr_var:</div>"
      ],
      "text/plain": [
       ">>> logic_arr_var:\n"
      ]
     },
     "metadata": {},
     "output_type": "display_data"
    },
    {
     "name": "stdout",
     "output_type": "stream",
     "text": [
      "\u001b[4l \b\u001b[0m logic_arr_var  = \r\n",
      "\r\n",
      "  T F T\r\n",
      "\r\n",
      "\u001b[0m"
     ]
    },
    {
     "data": {
      "text/html": [
       "<div class=\"sos_hint\">> seri_var:</div>"
      ],
      "text/plain": [
       ">>> seri_var:\n"
      ]
     },
     "metadata": {},
     "output_type": "display_data"
    },
    {
     "name": "stdout",
     "output_type": "stream",
     "text": [
      "\u001b[4l \b\u001b[0m\r\n",
      "Undefined variable: seri_var\r\n",
      "\r\n",
      "\u001b[0m"
     ]
    }
   ],
   "source": [
    "%get char_arr_var list_var set_var recursive_var logic_arr_var seri_var\n",
    "%preview -n char_arr_var list_var set_var recursive_var logic_arr_var seri_var"
   ]
  },
  {
   "cell_type": "markdown",
   "metadata": {
    "kernel": "R",
    "tags": []
   },
   "source": [
    "The multi-dimension data is converted from SoS to Scilab as follows:"
   ]
  },
  {
   "cell_type": "code",
   "execution_count": 17,
   "metadata": {
    "kernel": "SoS",
    "tags": []
   },
   "outputs": [],
   "source": [
    "num_arr_var = numpy.array([1, 2, 3, 4]).reshape(2,2)\n",
    "mat_var = numpy.matrix([[1,2],[3,4]])"
   ]
  },
  {
   "cell_type": "code",
   "execution_count": 18,
   "metadata": {
    "kernel": "Scilab",
    "tags": []
   },
   "outputs": [
    {
     "data": {
      "text/html": [
       "<div class=\"sos_hint\">> num_arr_var:</div>"
      ],
      "text/plain": [
       ">>> num_arr_var:\n"
      ]
     },
     "metadata": {},
     "output_type": "display_data"
    },
    {
     "name": "stdout",
     "output_type": "stream",
     "text": [
      "\u001b[4l \b\u001b[0m num_arr_var  = \r\n",
      "\r\n",
      "  1  2\r\n",
      "  3  4\r\n",
      "\r\n",
      "\u001b[0m"
     ]
    },
    {
     "data": {
      "text/html": [
       "<div class=\"sos_hint\">> mat_var:</div>"
      ],
      "text/plain": [
       ">>> mat_var:\n"
      ]
     },
     "metadata": {},
     "output_type": "display_data"
    },
    {
     "name": "stdout",
     "output_type": "stream",
     "text": [
      "\u001b[4l \b\u001b[0m mat_var  = \r\n",
      "\r\n",
      "  1  2\r\n",
      "  3  4\r\n",
      "\r\n",
      "\u001b[0m"
     ]
    }
   ],
   "source": [
    "%get num_arr_var mat_var\n",
    "%preview -n num_arr_var mat_var"
   ]
  },
  {
   "cell_type": "markdown",
   "metadata": {
    "kernel": "R",
    "tags": []
   },
   "source": [
    "The scalar data is converted from R to SoS as follows:"
   ]
  },
  {
   "cell_type": "code",
   "execution_count": 20,
   "metadata": {
    "kernel": "Scilab",
    "scrolled": true,
    "tags": []
   },
   "outputs": [
    {
     "name": "stdout",
     "output_type": "stream",
     "text": [
      "\u001b[4l\u001b[0m null_var  = \n",
      "\n",
      "   Nan\n",
      "\n",
      "\u001b[0m\u001b[4l\u001b[0m num_var  = \n",
      "\n",
      "   123.\n",
      "\n",
      "\u001b[0m\u001b[4l\u001b[0m logic_var  = \n",
      "\n",
      "  T\n",
      "\n",
      "\u001b[0m\u001b[4l\u001b[0m char_var  = \n",
      "\n",
      "  \"1 23\"\n",
      "\n",
      "\u001b[0m\u001b[4l\u001b[0m comp_var  = \n",
      "\n",
      "   1. + 2.i\n",
      "\n",
      "\u001b[0m"
     ]
    }
   ],
   "source": [
    "null_var = %nan\n",
    "num_var = 123\n",
    "logic_var = %t\n",
    "char_var = '1 23'\n",
    "comp_var = 1+2*%i"
   ]
  },
  {
   "cell_type": "code",
   "execution_count": 21,
   "metadata": {
    "kernel": "SoS",
    "tags": []
   },
   "outputs": [
    {
     "name": "stderr",
     "output_type": "stream",
     "text": [
      "Failed to evaluate 'Undefined variable: sos_py_repr':\n",
      " Invalid return expresion \"Undefined variable: sos_py_repr\"\n",
      "Failed to evaluate 'Undefined variable: sos_py_repr':\n",
      " Invalid return expresion \"Undefined variable: sos_py_repr\"\n",
      "Failed to evaluate 'Undefined variable: sos_py_repr':\n",
      " Invalid return expresion \"Undefined variable: sos_py_repr\"\n",
      "Failed to evaluate 'Undefined variable: sos_py_repr':\n",
      " Invalid return expresion \"Undefined variable: sos_py_repr\"\n",
      "Failed to evaluate 'Undefined variable: sos_py_repr':\n",
      " Invalid return expresion \"Undefined variable: sos_py_repr\"\n"
     ]
    },
    {
     "data": {
      "text/html": [
       "<div class=\"sos_hint\">> null_var: NoneType</div>"
      ],
      "text/plain": [
       ">>> null_var:\n"
      ]
     },
     "metadata": {},
     "output_type": "display_data"
    },
    {
     "data": {
      "text/plain": [
       "None"
      ]
     },
     "metadata": {},
     "output_type": "display_data"
    },
    {
     "data": {
      "text/html": [
       "<div class=\"sos_hint\">> num_var: None</div>"
      ],
      "text/plain": [
       ">>> num_var:\n"
      ]
     },
     "metadata": {},
     "output_type": "display_data"
    },
    {
     "name": "stdout",
     "output_type": "stream",
     "text": [
      "Unknown variable num_var"
     ]
    },
    {
     "data": {
      "text/html": [
       "<div class=\"sos_hint\">> logic_var: bool</div>"
      ],
      "text/plain": [
       ">>> logic_var:\n"
      ]
     },
     "metadata": {},
     "output_type": "display_data"
    },
    {
     "data": {
      "text/plain": [
       "True"
      ]
     },
     "metadata": {},
     "output_type": "display_data"
    },
    {
     "data": {
      "text/html": [
       "<div class=\"sos_hint\">> char_var: str of length 4</div>"
      ],
      "text/plain": [
       ">>> char_var:\n"
      ]
     },
     "metadata": {},
     "output_type": "display_data"
    },
    {
     "data": {
      "text/plain": [
       "'1\"23'"
      ]
     },
     "metadata": {},
     "output_type": "display_data"
    },
    {
     "data": {
      "text/html": [
       "<div class=\"sos_hint\">> comp_var: complex</div>"
      ],
      "text/plain": [
       ">>> comp_var:\n"
      ]
     },
     "metadata": {},
     "output_type": "display_data"
    },
    {
     "data": {
      "text/plain": [
       "(1+2j)"
      ]
     },
     "metadata": {},
     "output_type": "display_data"
    }
   ],
   "source": [
    "%get null_var num_var logic_var char_var comp_var --from scilab\n",
    "%preview -n null_var num_var logic_var char_var comp_var"
   ]
  },
  {
   "cell_type": "markdown",
   "metadata": {
    "kernel": "SoS",
    "tags": []
   },
   "source": [
    "The one-dimension (vector) data is converted from R to SoS as follows:"
   ]
  },
  {
   "cell_type": "code",
   "execution_count": 26,
   "metadata": {
    "kernel": "Scilab",
    "tags": []
   },
   "outputs": [
    {
     "name": "stdout",
     "output_type": "stream",
     "text": [
      "\u001b[4l\u001b[0m num_vector_var  = \n",
      "\n",
      "   1.   2.   3.\n",
      "\n",
      "\u001b[0m\u001b[4l\u001b[0m logic_vector_var  = \n",
      "\n",
      "  T F T\n",
      "\n",
      "\u001b[0m\u001b[4l\u001b[0m char_vector_var  = \n",
      "\n",
      "  \"1\"  \"2\"  \"3\"\n",
      "\n",
      "\u001b[0m\u001b[4l\u001b[0m list_var  = \n",
      "\n",
      "  (1) = 1\n",
      "  (2) = 2\n",
      "  (3) = \"3\"\n",
      "\n",
      "\n",
      "\u001b[0m\u001b[4l\u001b[0m recursive_var  = \n",
      "\n",
      "  (1) = 1\n",
      "  (2) : list:\n",
      "      (1) = 3\n",
      "      (2) = \"whatever\"\n",
      "\n",
      "\n",
      "\u001b[0m"
     ]
    }
   ],
   "source": [
    "num_vector_var = [1 2 3]\n",
    "logic_vector_var = [%t, %f, %t]\n",
    "char_vector_var = ['1', '2', '3']\n",
    "list_var = list(1, 2, '3')\n",
    "recursive_var = list(1, list(3, 'whatever'))"
   ]
  },
  {
   "cell_type": "code",
   "execution_count": 27,
   "metadata": {
    "kernel": "SoS",
    "tags": []
   },
   "outputs": [
    {
     "name": "stderr",
     "output_type": "stream",
     "text": [
      "Failed to evaluate 'Undefined variable: sos_py_repr':\n",
      " Invalid return expresion \"Undefined variable: sos_py_repr\"\n",
      "Failed to evaluate 'Undefined variable: sos_py_repr':\n",
      " Invalid return expresion \"Undefined variable: sos_py_repr\"\n",
      "Failed to evaluate 'Undefined variable: sos_py_repr':\n",
      " Invalid return expresion \"Undefined variable: sos_py_repr\"\n",
      "Failed to evaluate 'Undefined variable: sos_py_repr':\n",
      " Invalid return expresion \"Undefined variable: sos_py_repr\"\n",
      "Failed to evaluate 'Undefined variable: sos_py_repr':\n",
      " Invalid return expresion \"Undefined variable: sos_py_repr\"\n"
     ]
    },
    {
     "data": {
      "text/html": [
       "<div class=\"sos_hint\">> num_vector_var: None</div>"
      ],
      "text/plain": [
       ">>> num_vector_var:\n"
      ]
     },
     "metadata": {},
     "output_type": "display_data"
    },
    {
     "name": "stdout",
     "output_type": "stream",
     "text": [
      "Unknown variable num_vector_var"
     ]
    },
    {
     "data": {
      "text/html": [
       "<div class=\"sos_hint\">> logic_vector_var: None</div>"
      ],
      "text/plain": [
       ">>> logic_vector_var:\n"
      ]
     },
     "metadata": {},
     "output_type": "display_data"
    },
    {
     "name": "stdout",
     "output_type": "stream",
     "text": [
      "Unknown variable logic_vector_var"
     ]
    },
    {
     "data": {
      "text/html": [
       "<div class=\"sos_hint\">> char_vector_var: None</div>"
      ],
      "text/plain": [
       ">>> char_vector_var:\n"
      ]
     },
     "metadata": {},
     "output_type": "display_data"
    },
    {
     "name": "stdout",
     "output_type": "stream",
     "text": [
      "Unknown variable char_vector_var"
     ]
    },
    {
     "data": {
      "text/html": [
       "<div class=\"sos_hint\">> list_var: list of length 3</div>"
      ],
      "text/plain": [
       ">>> list_var:\n"
      ]
     },
     "metadata": {},
     "output_type": "display_data"
    },
    {
     "data": {
      "text/plain": [
       "[1, 2, '3']"
      ]
     },
     "metadata": {},
     "output_type": "display_data"
    },
    {
     "data": {
      "text/html": [
       "<div class=\"sos_hint\">> recursive_var: dict of length 2</div>"
      ],
      "text/plain": [
       ">>> recursive_var:\n"
      ]
     },
     "metadata": {},
     "output_type": "display_data"
    },
    {
     "data": {
      "text/plain": [
       "{'a': {'b': 123}, 'c': True}"
      ]
     },
     "metadata": {},
     "output_type": "display_data"
    }
   ],
   "source": [
    "%get num_vector_var logic_vector_var char_vector_var list_var recursive_var --from scilab\n",
    "%preview -n num_vector_var logic_vector_var char_vector_var list_var recursive_var "
   ]
  },
  {
   "cell_type": "markdown",
   "metadata": {
    "kernel": "SoS",
    "tags": []
   },
   "source": [
    "The multi-dimension data is converted from R to SoS as follows:"
   ]
  },
  {
   "cell_type": "code",
   "execution_count": 18,
   "metadata": {
    "kernel": "R",
    "tags": []
   },
   "outputs": [],
   "source": [
    "mat_var = matrix(c(1,2,3,4), nrow=2)\n",
    "arr_var = array(c(1:16),dim=c(2,2,2,2))"
   ]
  },
  {
   "cell_type": "code",
   "execution_count": 19,
   "metadata": {
    "collapsed": true,
    "kernel": "SoS",
    "tags": []
   },
   "outputs": [
    {
     "data": {
      "text/html": [
       "<div class=\"sos_hint\">> mat_var: ndarray of shape (2, 2)</div>"
      ],
      "text/plain": [
       ">>> mat_var:\n"
      ]
     },
     "metadata": {},
     "output_type": "display_data"
    },
    {
     "data": {
      "text/plain": [
       "array([[1., 3.],\n",
       "       [2., 4.]])"
      ]
     },
     "metadata": {},
     "output_type": "display_data"
    },
    {
     "data": {
      "text/html": [
       "<div class=\"sos_hint\">> arr_var: ndarray of shape (2, 2, 2, 2)</div>"
      ],
      "text/plain": [
       ">>> arr_var:\n"
      ]
     },
     "metadata": {},
     "output_type": "display_data"
    },
    {
     "data": {
      "text/plain": [
       "array([[[[ 1,  3],\n",
       "         [ 2,  4]],\n",
       "\n",
       "        [[ 5,  7],\n",
       "         [ 6,  8]]],\n",
       "\n",
       "\n",
       "       [[[ 9, 11],\n",
       "         [10, 12]],\n",
       "\n",
       "        [[13, 15],\n",
       "         [14, 16]]]])"
      ]
     },
     "metadata": {},
     "output_type": "display_data"
    }
   ],
   "source": [
    "%get mat_var arr_var --from R\n",
    "%preview -n mat_var arr_var"
   ]
  },
  {
   "cell_type": "markdown",
   "metadata": {
    "kernel": "SoS",
    "tags": []
   },
   "source": [
    "It is worth noting that R's named `list` is transferred to Python as dictionaries but SoS preserves the order of the keys so that you can recover the order of the list. For example,"
   ]
  },
  {
   "cell_type": "code",
   "execution_count": 20,
   "metadata": {
    "kernel": "R",
    "tags": []
   },
   "outputs": [],
   "source": [
    "Rlist = list(A=1, C='C', B=3, D=c(2, 3))"
   ]
  },
  {
   "cell_type": "markdown",
   "metadata": {
    "kernel": "R",
    "tags": []
   },
   "source": [
    "Although the dictionary might appear to have different order"
   ]
  },
  {
   "cell_type": "code",
   "execution_count": 21,
   "metadata": {
    "kernel": "SoS",
    "tags": []
   },
   "outputs": [
    {
     "data": {
      "text/plain": [
       "{'A': 1, 'C': 'C', 'B': 3, 'D': [2, 3]}"
      ]
     },
     "execution_count": 21,
     "metadata": {},
     "output_type": "execute_result"
    }
   ],
   "source": [
    "%get Rlist --from R\n",
    "Rlist"
   ]
  },
  {
   "cell_type": "markdown",
   "metadata": {
    "kernel": "SoS",
    "tags": []
   },
   "source": [
    "The order of the keys and values are actually preserved"
   ]
  },
  {
   "cell_type": "code",
   "execution_count": 22,
   "metadata": {
    "kernel": "SoS",
    "tags": []
   },
   "outputs": [
    {
     "data": {
      "text/plain": [
       "dict_keys(['A', 'C', 'B', 'D'])"
      ]
     },
     "execution_count": 22,
     "metadata": {},
     "output_type": "execute_result"
    }
   ],
   "source": [
    "Rlist.keys()"
   ]
  },
  {
   "cell_type": "code",
   "execution_count": 23,
   "metadata": {
    "kernel": "SoS",
    "tags": []
   },
   "outputs": [
    {
     "data": {
      "text/plain": [
       "dict_values([1, 'C', 3, [2, 3]])"
      ]
     },
     "execution_count": 23,
     "metadata": {},
     "output_type": "execute_result"
    }
   ],
   "source": [
    "Rlist.values()"
   ]
  },
  {
   "cell_type": "markdown",
   "metadata": {
    "kernel": "SoS",
    "tags": []
   },
   "source": [
    "so it is safe to enumerate the R list in Python as"
   ]
  },
  {
   "cell_type": "code",
   "execution_count": 24,
   "metadata": {
    "kernel": "SoS",
    "tags": []
   },
   "outputs": [
    {
     "name": "stdout",
     "output_type": "stream",
     "text": [
      "1 item of Rlist has key A and value 1\n",
      "2 item of Rlist has key C and value C\n",
      "3 item of Rlist has key B and value 3\n",
      "4 item of Rlist has key D and value [2, 3]\n"
     ]
    }
   ],
   "source": [
    "for idx, (key, val) in enumerate(Rlist.items()):\n",
    "  print(f\"{idx+1} item of Rlist has key {key} and value {val}\")"
   ]
  }
 ],
 "metadata": {
  "kernelspec": {
   "display_name": "SoS",
   "language": "sos",
   "name": "sos"
  },
  "language_info": {
   "codemirror_mode": "sos",
   "file_extension": ".sos",
   "mimetype": "text/x-sos",
   "name": "sos",
   "nbconvert_exporter": "sos_notebook.converter.SoS_Exporter",
   "pygments_lexer": "sos"
  },
  "sos": {
   "kernels": [
    [
     "R",
     "ir",
     "R",
     "#DCDCDA",
     "r"
    ],
    [
     "Scilab",
     "scilab",
     "scilab",
     "",
     ""
    ],
    [
     "SoS",
     "sos",
     "",
     "",
     "sos"
    ]
   ],
   "panel": {
    "displayed": true,
    "height": 0
   },
   "version": "0.23.4"
  }
 },
 "nbformat": 4,
 "nbformat_minor": 4
}
